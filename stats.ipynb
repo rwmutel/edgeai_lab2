{
 "cells": [
  {
   "cell_type": "code",
   "execution_count": 1,
   "metadata": {},
   "outputs": [],
   "source": [
    "import numpy as np"
   ]
  },
  {
   "cell_type": "code",
   "execution_count": 2,
   "metadata": {},
   "outputs": [],
   "source": [
    "def get_stats(raw_stdout):\n",
    "    times = [float(x.strip()) for x in raw_stdout]\n",
    "    return f\"{np.mean(times):.1f} ms +- {np.std(times):.2f} ms per loop\""
   ]
  },
  {
   "cell_type": "code",
   "execution_count": 3,
   "metadata": {},
   "outputs": [
    {
     "name": "stdout",
     "output_type": "stream",
     "text": [
      "OpenBLAS stats:  253.8 ms +- 9.80 ms per loop\n"
     ]
    }
   ],
   "source": [
    "with open(\"openblas.log\") as f:\n",
    "    openblas_logs = f.readlines()\n",
    "\n",
    "print(\"OpenBLAS stats: \", get_stats(openblas_logs))"
   ]
  },
  {
   "cell_type": "code",
   "execution_count": 4,
   "metadata": {},
   "outputs": [
    {
     "name": "stdout",
     "output_type": "stream",
     "text": [
      "Multithreaded C++ stats:  9241.5 ms +- 829.65 ms per loop\n"
     ]
    }
   ],
   "source": [
    "with open(\"multithreaded.log\") as f:\n",
    "    mt_logs = f.readlines()\n",
    "\n",
    "print(\"Multithreaded C++ stats: \", get_stats(mt_logs))"
   ]
  },
  {
   "cell_type": "code",
   "execution_count": 5,
   "metadata": {},
   "outputs": [
    {
     "name": "stdout",
     "output_type": "stream",
     "text": [
      "RKNN stats:  1535.7 ms +- 0.37 ms per loop\n"
     ]
    }
   ],
   "source": [
    "with open(\"rknn.log\") as f:\n",
    "    rknn_logs = f.readlines()\n",
    "\n",
    "print(\"RKNN stats: \", get_stats(rknn_logs))"
   ]
  },
  {
   "cell_type": "code",
   "execution_count": 7,
   "metadata": {},
   "outputs": [
    {
     "name": "stdout",
     "output_type": "stream",
     "text": [
      "RKNN with perf layout stats:  49.2 ms +- 0.30 ms per loop\n"
     ]
    }
   ],
   "source": [
    "with open(\"rknn_perf.log\") as f:\n",
    "    rknn_perf_logs = f.readlines()\n",
    "\n",
    "print(\"RKNN with perf layout stats: \", get_stats(rknn_perf_logs))"
   ]
  }
 ],
 "metadata": {
  "kernelspec": {
   "display_name": "base",
   "language": "python",
   "name": "python3"
  },
  "language_info": {
   "codemirror_mode": {
    "name": "ipython",
    "version": 3
   },
   "file_extension": ".py",
   "mimetype": "text/x-python",
   "name": "python",
   "nbconvert_exporter": "python",
   "pygments_lexer": "ipython3",
   "version": "3.10.13"
  }
 },
 "nbformat": 4,
 "nbformat_minor": 2
}
