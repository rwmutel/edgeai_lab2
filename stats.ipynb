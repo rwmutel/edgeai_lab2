{
 "cells": [
  {
   "cell_type": "code",
   "execution_count": 2,
   "metadata": {},
   "outputs": [],
   "source": [
    "import numpy as np"
   ]
  },
  {
   "cell_type": "code",
   "execution_count": 11,
   "metadata": {},
   "outputs": [],
   "source": [
    "def get_stats(raw_stdout):\n",
    "    times = [float(x.strip()) for x in raw_stdout]\n",
    "    return f\"{np.mean(times):.1f} ms +- {np.std(times):.2f} ms per loop\""
   ]
  },
  {
   "cell_type": "code",
   "execution_count": 13,
   "metadata": {},
   "outputs": [
    {
     "name": "stdout",
     "output_type": "stream",
     "text": [
      "OpenBLAS stats:  253.8 ms +- 9.80 ms per loop\n"
     ]
    }
   ],
   "source": [
    "with open(\"openblas.log\") as f:\n",
    "    openblas_logs = f.readlines()\n",
    "\n",
    "print(\"OpenBLAS stats: \", get_stats(openblas_logs))"
   ]
  }
 ],
 "metadata": {
  "kernelspec": {
   "display_name": "base",
   "language": "python",
   "name": "python3"
  },
  "language_info": {
   "codemirror_mode": {
    "name": "ipython",
    "version": 3
   },
   "file_extension": ".py",
   "mimetype": "text/x-python",
   "name": "python",
   "nbconvert_exporter": "python",
   "pygments_lexer": "ipython3",
   "version": "3.10.13"
  }
 },
 "nbformat": 4,
 "nbformat_minor": 2
}
